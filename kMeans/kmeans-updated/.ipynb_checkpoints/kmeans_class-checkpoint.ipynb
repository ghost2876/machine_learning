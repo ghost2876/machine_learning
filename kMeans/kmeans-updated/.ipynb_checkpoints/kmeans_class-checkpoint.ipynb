{
 "cells": [
  {
   "cell_type": "markdown",
   "metadata": {},
   "source": [
    "# *k*-Means Clustering [Unsupervised Learning]"
   ]
  },
  {
   "cell_type": "markdown",
   "metadata": {},
   "source": [
    "### Satisfies Two Properties:"
   ]
  },
  {
   "cell_type": "markdown",
   "metadata": {},
   "source": [
    "1. Each observation belongs to at least one cluster\n",
    "2. No observations belongs to more than one cluster"
   ]
  },
  {
   "cell_type": "markdown",
   "metadata": {},
   "source": [
    "e.g. if the $i^{th}$ observation belongs to the $k^{th}$ cluster, then $i \\in C_k$ where $k \\in \\{1, \\ldots, K\\}$"
   ]
  },
  {
   "cell_type": "markdown",
   "metadata": {},
   "source": [
    "#### Model Inputs"
   ]
  },
  {
   "cell_type": "markdown",
   "metadata": {},
   "source": [
    "1. $i$: observations, where $i \\geq k$\n",
    "2. $j$: features, where $j \\geq 1$\n",
    "3. $k$: the desired numbed of clusters\n"
   ]
  },
  {
   "cell_type": "markdown",
   "metadata": {},
   "source": [
    "### Model Objective"
   ]
  },
  {
   "cell_type": "markdown",
   "metadata": {},
   "source": [
    "To assign all observations to one and only one cluster, such that *within-cluster variation* is **minimized**"
   ]
  },
  {
   "cell_type": "markdown",
   "metadata": {},
   "source": [
    "A typical way to evaluate *within-cluster variation* is to compute the sum-of-squares (SSE) for each cluster and sum for all cluster. This isalso known as Within-Cluster Sum-of-Squares (WSS)."
   ]
  },
  {
   "cell_type": "markdown",
   "metadata": {},
   "source": [
    "$SSE = WSS = \\sum_k \\sum_{x \\in C_k} (x - \\gamma_k)$\n",
    "\n",
    "where "
   ]
  },
  {
   "cell_type": "markdown",
   "metadata": {},
   "source": [
    "$k \\in \\{1,\\ldots,K\\}$ (number of clusters)"
   ]
  },
  {
   "cell_type": "markdown",
   "metadata": {},
   "source": [
    "$x$ an observation in cluster $k$"
   ]
  },
  {
   "cell_type": "markdown",
   "metadata": {},
   "source": [
    "$\\gamma_k$ the centroid of cluster $k$"
   ]
  },
  {
   "cell_type": "markdown",
   "metadata": {},
   "source": [
    "In this context, SSE/WSS is referred to as **Cohesion**. There are many other measuers of *within-cluster variation*, but the above measure is very common. "
   ]
  },
  {
   "cell_type": "markdown",
   "metadata": {},
   "source": [
    "In sum, the objective is "
   ]
  },
  {
   "cell_type": "markdown",
   "metadata": {},
   "source": [
    "$$\\min \\sum_k \\sum_{x \\in C_k} (x - \\gamma_k)$$"
   ]
  },
  {
   "cell_type": "markdown",
   "metadata": {},
   "source": [
    "### The Algorithm"
   ]
  },
  {
   "cell_type": "markdown",
   "metadata": {},
   "source": [
    "Just as there are many ways to evaluate and assign observations to clusters, there are many ways to initialize and improve clusters. We will discuss two algorithms here."
   ]
  },
  {
   "cell_type": "markdown",
   "metadata": {},
   "source": [
    "#### Algorithm 1\n",
    "\n",
    "**INPUT**: $K$, the number of desired clusters \n",
    "\n",
    "1. Randomly assign each observation to a cluster \n",
    "\n",
    "2. Iterate until the clusters converge, i.e., there are no more observations switching between clusters\n",
    "    \n",
    "    1. For each cluster, compute the cluster centroid, $\\gamma_k$\n",
    "       \n",
    "    2. Assign each observation to the closest centroid\n"
   ]
  },
  {
   "cell_type": "markdown",
   "metadata": {},
   "source": [
    "#### Algorithm 2\n",
    "\n",
    "**INPUT**: $K$, the number of desired clusters \n",
    "\n",
    "1. Randomly select $K$ observations as cluster centroids\n",
    "\n",
    "2. Iterate until the clusters converge, i.e., there are no more observations switching between clusters\n",
    "    \n",
    "    1. Assign each observation to the closest centroid\n",
    "    \n",
    "    2. For each cluster, compute the cluster centroid, $\\gamma_k$"
   ]
  },
  {
   "cell_type": "markdown",
   "metadata": {},
   "source": [
    "The above algorithms are typically run hundreds of times and the solution with the lowest SSE selected."
   ]
  },
  {
   "cell_type": "markdown",
   "metadata": {},
   "source": [
    "![title](good_kmeans.png)"
   ]
  },
  {
   "cell_type": "markdown",
   "metadata": {},
   "source": [
    "## SKL Python Code"
   ]
  },
  {
   "cell_type": "code",
   "execution_count": 10,
   "metadata": {},
   "outputs": [
    {
     "data": {
      "image/png": "[encoded data removed]",
      "text/plain": [
       "<matplotlib.figure.Figure at 0x1a1bcc95c0>"
      ]
     },
     "metadata": {},
     "output_type": "display_data"
    }
   ],
   "source": [
    "%matplotlib inline\n",
    "\n",
    "import matplotlib.pyplot as plt\n",
    "from sklearn.datasets.samples_generator import make_blobs\n",
    "\n",
    "# 修改cluster_std和random_state应该可以得到不同的随机聚簇效果\n",
    "X, y_true = make_blobs(n_samples = 500, centers = 6, cluster_std = 0.7, random_state = 0)\n",
    "plt.scatter(X[:, 0], X[:, 1], s = 65);"
   ]
  },
  {
   "cell_type": "code",
   "execution_count": 11,
   "metadata": {},
   "outputs": [
    {
     "data": {
      "text/plain": [
       "array([[ 8.92394356, -2.31622377],\n",
       "       [ 1.55154445,  0.32856857],\n",
       "       [-0.25216733,  8.11272063],\n",
       "       [ 5.59092746, -0.36947381],\n",
       "       [-1.41766966,  8.89824283]])"
      ]
     },
     "execution_count": 11,
     "metadata": {},
     "output_type": "execute_result"
    }
   ],
   "source": [
    "X[0:5,]"
   ]
  },
  {
   "cell_type": "code",
   "execution_count": 12,
   "metadata": {},
   "outputs": [
    {
     "data": {
      "text/plain": [
       "array([4, 1, 3, 5, 3, 2, 2, 0, 1, 2, 4, 3, 0, 2, 0, 0, 4, 4, 1, 2, 5, 0, 3,\n",
       "       5, 3, 0, 3, 2, 4, 1, 5, 3, 0, 0, 1, 2, 4, 1, 1, 0, 5, 4, 1, 2, 4, 1,\n",
       "       5, 4, 5, 1, 4, 1, 3, 1, 0, 1, 2, 2, 5, 1, 3, 5, 4, 1, 0, 1, 2, 1, 1,\n",
       "       2, 1, 2, 0, 3, 2, 2, 4, 0, 4, 4, 5, 5, 4, 5, 2, 0, 0, 4, 2, 5, 0, 0,\n",
       "       3, 5, 2, 5, 3, 3, 2, 4, 3, 3, 0, 1, 1, 2, 3, 4, 4, 5, 5, 2, 1, 0, 5,\n",
       "       1, 1, 5, 4, 4, 2, 1, 3, 4, 2, 0, 2, 2, 0, 4, 1, 5, 5, 2, 1, 0, 4, 2,\n",
       "       5, 5, 5, 0, 2, 1, 4, 4, 2, 1, 5, 3, 3, 5, 0, 0, 2, 4, 2, 2, 1, 0, 0,\n",
       "       4, 4, 2, 5, 3, 0, 1, 1, 2, 1, 4, 3, 3, 1, 5, 3, 5, 4, 3, 5, 0, 3, 1,\n",
       "       3, 4, 5, 2, 4, 1, 1, 4, 5, 3, 2, 3, 3, 2, 4, 4, 5, 5, 5, 1, 3, 0, 4,\n",
       "       4, 1, 3, 5, 2, 0, 5, 4, 0, 4, 2, 4, 3, 1, 1, 0, 2, 3, 3, 5, 5, 0, 2,\n",
       "       3, 4, 3, 1, 5, 0, 4, 4, 2, 4, 5, 4, 0, 1, 0, 3, 5, 1, 1, 5, 4, 2, 0,\n",
       "       5, 0, 2, 1, 0, 3, 0, 3, 4, 3, 3, 3, 1, 0, 2, 5, 2, 2, 0, 0, 3, 2, 1,\n",
       "       4, 2, 3, 2, 5, 4, 3, 1, 1, 2, 0, 2, 3, 2, 4, 4, 2, 1, 0, 0, 1, 5, 4,\n",
       "       2, 3, 4, 4, 0, 1, 2, 4, 0, 5, 2, 1, 5, 5, 3, 1, 5, 0, 2, 0, 0, 3, 5,\n",
       "       4, 3, 0, 1, 0, 3, 4, 5, 1, 1, 5, 2, 2, 0, 0, 2, 2, 3, 1, 4, 3, 0, 3,\n",
       "       5, 2, 2, 1, 4, 0, 2, 2, 1, 2, 0, 1, 1, 2, 0, 0, 4, 2, 1, 4, 0, 3, 1,\n",
       "       2, 2, 3, 4, 1, 3, 5, 0, 1, 1, 5, 0, 4, 0, 5, 5, 5, 0, 5, 4, 5, 4, 4,\n",
       "       5, 3, 3, 4, 4, 3, 5, 5, 5, 5, 1, 4, 1, 0, 2, 3, 1, 2, 0, 2, 0, 3, 4,\n",
       "       5, 0, 5, 3, 1, 2, 5, 4, 0, 1, 5, 3, 4, 1, 1, 0, 2, 4, 1, 0, 2, 5, 4,\n",
       "       1, 4, 2, 0, 4, 1, 3, 1, 5, 0, 0, 3, 1, 1, 0, 0, 3, 0, 2, 5, 2, 3, 1,\n",
       "       5, 3, 4, 3, 5, 3, 0, 5, 3, 3, 3, 3, 3, 0, 4, 2, 4, 1, 0, 2, 4, 5, 0,\n",
       "       5, 3, 5, 1, 5, 0, 3, 3, 4, 3, 4, 3, 5, 2, 3, 3, 5])"
      ]
     },
     "execution_count": 12,
     "metadata": {},
     "output_type": "execute_result"
    }
   ],
   "source": [
    "y_true #these are the true cluster labels "
   ]
  },
  {
   "cell_type": "markdown",
   "metadata": {},
   "source": [
    "#### Run KMeans Algorithm"
   ]
  },
  {
   "cell_type": "code",
   "execution_count": 18,
   "metadata": {
    "collapsed": true
   },
   "outputs": [],
   "source": [
    "from sklearn.cluster import KMeans\n",
    "\n",
    "kmeans = KMeans(n_clusters = 5)\n",
    "kmeans.fit(X)\n",
    "y_kmeans = kmeans.predict(X)"
   ]
  },
  {
   "cell_type": "code",
   "execution_count": 16,
   "metadata": {},
   "outputs": [
    {
     "data": {
      "text/plain": [
       "array([0, 4, 2, 3, 2, 5, 5, 1, 4, 5, 0, 2, 1, 5, 1, 1, 0, 0, 4, 5, 3, 1, 2,\n",
       "       3, 2, 1, 2, 5, 0, 4, 3, 2, 1, 1, 4, 5, 0, 4, 4, 1, 3, 0, 4, 5, 0, 4,\n",
       "       3, 0, 3, 4, 0, 4, 2, 4, 1, 4, 5, 5, 3, 4, 2, 3, 0, 4, 1, 4, 5, 4, 4,\n",
       "       5, 4, 5, 1, 2, 5, 5, 0, 1, 0, 0, 3, 3, 0, 3, 5, 1, 1, 0, 5, 3, 1, 1,\n",
       "       2, 3, 5, 3, 2, 2, 5, 0, 2, 2, 1, 4, 4, 5, 2, 0, 0, 3, 3, 5, 4, 1, 3,\n",
       "       4, 4, 3, 0, 0, 5, 4, 2, 0, 5, 1, 5, 5, 1, 0, 4, 3, 3, 5, 4, 1, 0, 5,\n",
       "       3, 3, 3, 1, 5, 4, 0, 0, 5, 4, 3, 2, 2, 3, 1, 1, 5, 0, 5, 5, 4, 1, 1,\n",
       "       0, 0, 5, 3, 2, 1, 4, 4, 5, 4, 0, 2, 2, 4, 3, 2, 3, 0, 2, 3, 1, 2, 4,\n",
       "       2, 0, 3, 1, 0, 4, 4, 0, 3, 2, 5, 2, 2, 5, 0, 0, 3, 3, 3, 4, 2, 1, 0,\n",
       "       0, 4, 2, 3, 5, 1, 3, 0, 1, 0, 5, 0, 2, 4, 4, 1, 5, 2, 2, 3, 3, 1, 5,\n",
       "       2, 0, 2, 4, 3, 1, 0, 0, 5, 0, 3, 0, 1, 4, 1, 2, 3, 4, 4, 3, 0, 5, 1,\n",
       "       3, 1, 5, 4, 1, 2, 1, 2, 0, 2, 2, 2, 4, 1, 5, 3, 5, 5, 1, 1, 2, 5, 4,\n",
       "       0, 5, 2, 5, 3, 0, 2, 4, 4, 5, 1, 5, 2, 5, 0, 0, 5, 4, 1, 1, 4, 3, 0,\n",
       "       1, 2, 0, 0, 1, 4, 5, 0, 1, 3, 5, 4, 3, 3, 2, 4, 3, 1, 1, 1, 1, 2, 3,\n",
       "       0, 2, 1, 4, 1, 2, 0, 3, 4, 4, 3, 5, 5, 1, 1, 5, 5, 2, 4, 0, 2, 1, 2,\n",
       "       3, 5, 5, 4, 0, 1, 5, 5, 4, 5, 1, 4, 4, 5, 1, 1, 0, 5, 4, 0, 1, 2, 4,\n",
       "       5, 5, 2, 0, 4, 2, 3, 1, 4, 4, 3, 1, 0, 1, 3, 3, 3, 1, 3, 0, 3, 0, 0,\n",
       "       3, 2, 2, 0, 0, 2, 3, 3, 3, 3, 4, 0, 4, 1, 5, 2, 4, 5, 1, 5, 1, 2, 0,\n",
       "       3, 1, 3, 2, 4, 5, 3, 0, 1, 4, 3, 2, 0, 4, 4, 1, 5, 0, 4, 1, 5, 3, 0,\n",
       "       4, 0, 5, 1, 0, 4, 2, 4, 3, 1, 1, 2, 4, 4, 1, 1, 2, 1, 5, 3, 5, 2, 4,\n",
       "       3, 2, 0, 2, 3, 2, 1, 3, 2, 2, 2, 2, 2, 1, 0, 5, 0, 4, 1, 5, 0, 3, 1,\n",
       "       3, 2, 3, 4, 3, 1, 2, 2, 0, 2, 0, 2, 3, 5, 2, 2, 3], dtype=int32)"
      ]
     },
     "execution_count": 16,
     "metadata": {},
     "output_type": "execute_result"
    }
   ],
   "source": [
    "y_kmeans"
   ]
  },
  {
   "cell_type": "code",
   "execution_count": 19,
   "metadata": {},
   "outputs": [
    {
     "data": {
      "text/plain": [
       "<matplotlib.collections.PathCollection at 0x1a1c4c01d0>"
      ]
     },
     "execution_count": 19,
     "metadata": {},
     "output_type": "execute_result"
    },
    {
     "data": {
      "image/png": "[encoded data removed]",
      "text/plain": [
       "<matplotlib.figure.Figure at 0x1a185804e0>"
      ]
     },
     "metadata": {},
     "output_type": "display_data"
    }
   ],
   "source": [
    "plt.scatter(X[:, 0], X[:, 1], c=y_kmeans, s=50, cmap='plasma')"
   ]
  },
  {
   "cell_type": "code",
   "execution_count": 20,
   "metadata": {},
   "outputs": [
    {
     "data": {
      "text/plain": [
       "825.3578551675962"
      ]
     },
     "execution_count": 20,
     "metadata": {},
     "output_type": "execute_result"
    }
   ],
   "source": [
    "# 使用这个就可以看到每种cluster（即k为特定值）时的SSE\n",
    "# 总体有个趋势，比如你一共有10个sample data，那么k=0时SSE最大，k=10时SSE最小（此时每个点每个sample data都是自己的centroid）\n",
    "# 所以总是k越接近于总的sample data数，SSE最小\n",
    "# k越大，SSE最小\n",
    "# 所以你可以像下面第104行那样，看SSE啥时候开始减小的scale很小了，即你再增大k、SSE的减小幅度也不会更大了，那么此时的k就是最优的，可以用GridSearchCV实现\n",
    "kmeans.inertia_"
   ]
  },
  {
   "cell_type": "markdown",
   "metadata": {},
   "source": [
    "With K = 3, will SSE go up or down?"
   ]
  },
  {
   "cell_type": "code",
   "execution_count": 26,
   "metadata": {},
   "outputs": [
    {
     "data": {
      "text/plain": [
       "465.78762042171786"
      ]
     },
     "execution_count": 26,
     "metadata": {},
     "output_type": "execute_result"
    }
   ],
   "source": [
    "kmeans = KMeans(n_clusters = 6)\n",
    "kmeans.fit(X)\n",
    "#y_kmeans = kmeans.predict(X)\n",
    "kmeans.inertia_"
   ]
  },
  {
   "cell_type": "markdown",
   "metadata": {},
   "source": [
    "With K = 5, will SSE go up or down?"
   ]
  },
  {
   "cell_type": "code",
   "execution_count": 91,
   "metadata": {},
   "outputs": [
    {
     "data": {
      "text/plain": [
       "43.005198671637032"
      ]
     },
     "execution_count": 91,
     "metadata": {},
     "output_type": "execute_result"
    }
   ],
   "source": [
    "kmeans = KMeans(n_clusters = 5)\n",
    "kmeans.fit(X)\n",
    "#y_kmeans = kmeans.predict(X)\n",
    "kmeans.inertia_"
   ]
  },
  {
   "cell_type": "markdown",
   "metadata": {},
   "source": [
    "### What if we don't know how many clusters there are? \n",
    "\n",
    "Plot SSE (y-axis) against number of clusters (x-axis) and try to identify the point of diminishing returns to scale (also called the elbow method)"
   ]
  },
  {
   "cell_type": "code",
   "execution_count": 27,
   "metadata": {
    "collapsed": true
   },
   "outputs": [],
   "source": [
    "km = [KMeans(n_clusters = i) for i in range(1, 30)]"
   ]
  },
  {
   "cell_type": "code",
   "execution_count": 28,
   "metadata": {
    "collapsed": true
   },
   "outputs": [],
   "source": [
    "score = [km[i].fit(X).inertia_ for i in range(len(km))]"
   ]
  },
  {
   "cell_type": "code",
   "execution_count": 29,
   "metadata": {},
   "outputs": [
    {
     "data": {
      "text/plain": [
       "[13113.342371364937,\n",
       " 4153.5076750321023,\n",
       " 2373.7172979352626,\n",
       " 1407.9464132980179,\n",
       " 825.3578551675962,\n",
       " 465.78762042171786,\n",
       " 426.51882295876658,\n",
       " 398.46580584206004,\n",
       " 372.02761321997502,\n",
       " 345.73804218899045,\n",
       " 322.22824423619102,\n",
       " 298.99698849391211,\n",
       " 279.62860342921653,\n",
       " 255.45045379235302,\n",
       " 240.7432142987256,\n",
       " 221.65005257127729,\n",
       " 215.54905175564033,\n",
       " 193.09386936957989,\n",
       " 183.82542014948621,\n",
       " 179.04256268584697,\n",
       " 169.80006490863428,\n",
       " 164.19846300155109,\n",
       " 157.72214918265001,\n",
       " 150.98817932479034,\n",
       " 145.93824043043804,\n",
       " 138.58204106476194,\n",
       " 136.337592908565,\n",
       " 131.56299564693813,\n",
       " 126.49755712685733]"
      ]
     },
     "execution_count": 29,
     "metadata": {},
     "output_type": "execute_result"
    }
   ],
   "source": [
    "score"
   ]
  },
  {
   "cell_type": "code",
   "execution_count": 104,
   "metadata": {},
   "outputs": [
    {
     "data": {
      "text/plain": [
       "<matplotlib.collections.PathCollection at 0x1a1474da58>"
      ]
     },
     "execution_count": 104,
     "metadata": {},
     "output_type": "execute_result"
    },
    {
     "data": {
      "image/png": "[encoded data removed]",
      "text/plain": [
       "<matplotlib.figure.Figure at 0x1a15a00e10>"
      ]
     },
     "metadata": {},
     "output_type": "display_data"
    }
   ],
   "source": [
    "plt.scatter(x = list(range(len(score))),  y = score)"
   ]
  },
  {
   "cell_type": "markdown",
   "metadata": {},
   "source": [
    "### Potential Issues with K-Means"
   ]
  },
  {
   "cell_type": "markdown",
   "metadata": {},
   "source": [
    "#### 1. Initial Centroid Selection"
   ]
  },
  {
   "cell_type": "markdown",
   "metadata": {
    "collapsed": true
   },
   "source": [
    "![title](badCentroids.png)"
   ]
  },
  {
   "cell_type": "markdown",
   "metadata": {},
   "source": [
    "#### 2. Differing Sizes of Clusters"
   ]
  },
  {
   "cell_type": "markdown",
   "metadata": {
    "collapsed": true
   },
   "source": [
    "![](diff.png)"
   ]
  },
  {
   "cell_type": "markdown",
   "metadata": {
    "collapsed": true
   },
   "source": [
    "#### 3. Differing Density of Clusters"
   ]
  },
  {
   "cell_type": "markdown",
   "metadata": {
    "collapsed": true
   },
   "source": [
    "![](density.png)"
   ]
  },
  {
   "cell_type": "markdown",
   "metadata": {
    "collapsed": true
   },
   "source": [
    "#### 4. Non-Globular Shapes"
   ]
  },
  {
   "cell_type": "markdown",
   "metadata": {},
   "source": [
    "![](globular.png)"
   ]
  }
 ],
 "metadata": {
  "kernelspec": {
   "display_name": "Python 3",
   "language": "python",
   "name": "python3"
  },
  "language_info": {
   "codemirror_mode": {
    "name": "ipython",
    "version": 3
   },
   "file_extension": ".py",
   "mimetype": "text/x-python",
   "name": "python",
   "nbconvert_exporter": "python",
   "pygments_lexer": "ipython3",
   "version": "3.6.1"
  }
 },
 "nbformat": 4,
 "nbformat_minor": 2
}
